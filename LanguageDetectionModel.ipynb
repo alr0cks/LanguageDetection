{
 "cells": [
  {
   "cell_type": "code",
   "execution_count": 8,
   "metadata": {},
   "outputs": [],
   "source": [
    "#import liabraries\n",
    "import string\n",
    "import re\n",
    "import codecs\n",
    "import numpy as np\n",
    "import pandas as pd\n",
    "import seaborn as sns\n",
    "import matplotlib.pyplot as plt\n",
    "import pickle\n",
    "from sklearn import feature_extraction\n",
    "from sklearn import linear_model\n",
    "from sklearn import pipeline\n",
    "from sklearn.model_selection import train_test_split\n",
    "from sklearn import metrics"
   ]
  },
  {
   "cell_type": "code",
   "execution_count": 9,
   "metadata": {},
   "outputs": [
    {
     "name": "stderr",
     "output_type": "stream",
     "text": [
      "<ipython-input-9-70216dc1dc7c>:1: ParserWarning: Falling back to the 'python' engine because the 'c' engine does not support regex separators (separators > 1 char and different from '\\s+' are interpreted as regex); you can avoid this warning by specifying engine='python'.\n",
      "  eng_df = pd.read_csv(\"Dataset/eng_news_2015_10K-sentences.txt\",\"utf-8\", header=None, names=[\"English\"])\n",
      "<ipython-input-9-70216dc1dc7c>:2: ParserWarning: Falling back to the 'python' engine because the 'c' engine does not support regex separators (separators > 1 char and different from '\\s+' are interpreted as regex); you can avoid this warning by specifying engine='python'.\n",
      "  ger_df = pd.read_csv(\"Dataset/deu_mixed-typical_2011_10K-sentences.txt\",\"utf-8\", header=None, names=[\"German\"])\n",
      "<ipython-input-9-70216dc1dc7c>:3: ParserWarning: Falling back to the 'python' engine because the 'c' engine does not support regex separators (separators > 1 char and different from '\\s+' are interpreted as regex); you can avoid this warning by specifying engine='python'.\n",
      "  fre_df = pd.read_csv(\"Dataset/fra_mixed_2009_10K-sentences.txt\",\"utf-8\", header=None, names=[\"French\"])\n",
      "<ipython-input-9-70216dc1dc7c>:4: ParserWarning: Falling back to the 'python' engine because the 'c' engine does not support regex separators (separators > 1 char and different from '\\s+' are interpreted as regex); you can avoid this warning by specifying engine='python'.\n",
      "  spa_df = pd.read_csv(\"Dataset/spa_news_2011_10K-sentences.txt\",\"utf-8\", header=None, names=[\"Spanish\"])\n"
     ]
    }
   ],
   "source": [
    "eng_df = pd.read_csv(\"Dataset/eng_news_2015_10K-sentences.txt\",\"utf-8\", header=None, names=[\"English\"])\n",
    "ger_df = pd.read_csv(\"Dataset/deu_mixed-typical_2011_10K-sentences.txt\",\"utf-8\", header=None, names=[\"German\"])\n",
    "fre_df = pd.read_csv(\"Dataset/fra_mixed_2009_10K-sentences.txt\",\"utf-8\", header=None, names=[\"French\"])\n",
    "spa_df = pd.read_csv(\"Dataset/spa_news_2011_10K-sentences.txt\",\"utf-8\", header=None, names=[\"Spanish\"])"
   ]
  },
  {
   "cell_type": "code",
   "execution_count": 10,
   "metadata": {},
   "outputs": [
    {
     "name": "stdout",
     "output_type": "stream",
     "text": [
      "<bound method NDFrame.head of                                                 English\n",
      "0     1\\t0:49 autoplay autoplay Copy this code to yo...\n",
      "1     2\\t08:35 GMT - Roadmap signed - The head of th...\n",
      "2     3\\t100 moments from the Iraq War 100 photos A ...\n",
      "3     4\\t10 a.m. From cyberspace to space itself, Re...\n",
      "4     5\\t11 hours Meet the Press With 16 Million in ...\n",
      "...                                                 ...\n",
      "9982  9983\\tZelmer, who co-owns the company with Rob...\n",
      "9983  9984\\tZimba the cat needs a loving home Zimba ...\n",
      "9984  9985\\tZim-Fund came following approval by the ...\n",
      "9985  9986\\tZito outlasted his counterpart one batte...\n",
      "9986  9987\\tZombies aside, it's an amusing strategy ...\n",
      "\n",
      "[9987 rows x 1 columns]>\n",
      "<bound method NDFrame.head of                                                  German\n",
      "0              1\\t105 Millionen Euro werden investiert.\n",
      "1     2\\t1343 wurde der Zentralturm der Kathedrale e...\n",
      "2     3\\t1841 wurde die erste Lokomotive in München ...\n",
      "3                             4\\t1849 starb seine Frau.\n",
      "4           5\\t1867 wurde ein Amtsgericht eingerichtet.\n",
      "...                                                 ...\n",
      "9995  9996\\tZwischen den inneren Laschen befindet si...\n",
      "9996  9997\\tZwischendurch werden wir für Erfrischung...\n",
      "9997  9998\\tZwischen ihnen herrscht die Ruhe des Wel...\n",
      "9998  9999\\tZwischen Ihnen herrscht eine gewisse Una...\n",
      "9999                  10000\\tZwölf ICs fielen dort aus.\n",
      "\n",
      "[10000 rows x 1 columns]>\n",
      "<bound method NDFrame.head of                                                  French\n",
      "0     1\\tLa CGT avait d'ailleurs critiqué l'avis de ...\n",
      "1     2\\tPour ladressage rapide et professionnel de...\n",
      "2     3\\tLa vierge du Seigneur sen alla ensuite ter...\n",
      "3     4\\tPrésentation de celui-ci à plusieurs écoles...\n",
      "4     5\\tCar chez le tout-petit, une diarrhée aiguë ...\n",
      "...                                                 ...\n",
      "9966        9996\\t\"Que veut le ministre de l'Intérieur?\n",
      "9967  9997\\tLa communauté de la Mission de France le...\n",
      "9968  9998\\tOn peut aussi trouver la noblesse d'âme,...\n",
      "9969  9999\\tOn fête chaque fin de mois les anniversa...\n",
      "9970  10000\\tLes communes les plus proches sont Beau...\n",
      "\n",
      "[9971 rows x 1 columns]>\n",
      "<bound method NDFrame.head of                                                 Spanish\n",
      "0     1\\tDenuncia IEM probable fraude con actas elec...\n",
      "1     2\\tA pesar de la organización del movimiento, ...\n",
      "2     3\\tEs decir, el BM entrega préstamos (evidente...\n",
      "3     4\\tSin embargo, el juego no tenía construida u...\n",
      "4     5\\tBuscados por las autoridades, trabajamos en...\n",
      "...                                                 ...\n",
      "9995  9996\\t3. La enfermedad de Aguirre no afectará ...\n",
      "9996  9997\\tPascuas” ha quedado prácticamente en des...\n",
      "9997    9998\\tPero en el mundo real eso es lo de menos.\n",
      "9998  9999\\t3. El anciano de 84 años que se encontra...\n",
      "9999  10000\\tLa eclosión de los negocios de la distr...\n",
      "\n",
      "[10000 rows x 1 columns]>\n"
     ]
    }
   ],
   "source": [
    "print(eng_df.head)\n",
    "print(ger_df.head)\n",
    "print(fre_df.head)\n",
    "print(spa_df.head)"
   ]
  },
  {
   "cell_type": "code",
   "execution_count": 11,
   "metadata": {},
   "outputs": [
    {
     "name": "stdout",
     "output_type": "stream",
     "text": [
      "! \" # $ % & ' ( ) * + , - . / : ; < = > ? @ [ \\ ] ^ _ ` { | } ~ "
     ]
    }
   ],
   "source": [
    "#get punctuation\n",
    "for char in string.punctuation:\n",
    "    print(char, end=' ')\n",
    "translate_table = dict((ord(char), None) for char in string.punctuation)"
   ]
  },
  {
   "cell_type": "code",
   "execution_count": 12,
   "metadata": {},
   "outputs": [],
   "source": [
    "data_eng = []\n",
    "lang_eng = []\n",
    "for i,line in eng_df.iterrows():\n",
    "    line = line['English']\n",
    "    if len(line) != 0:\n",
    "        line = line.lower()\n",
    "        line = re.sub(r\"\\d+\",\"\",line)\n",
    "        line = line.translate(translate_table)\n",
    "        data_eng.append(line)\n",
    "        lang_eng.append(\"English\")"
   ]
  },
  {
   "cell_type": "code",
   "execution_count": 13,
   "metadata": {},
   "outputs": [],
   "source": [
    "data_ger = []\n",
    "lang_ger = []\n",
    "for i,line in ger_df.iterrows():\n",
    "    line = line['German']\n",
    "    if len(line) != 0:\n",
    "        line = line.lower()\n",
    "        line = re.sub(r\"\\d+\",\"\",line)\n",
    "        line = line.translate(translate_table)\n",
    "        data_ger.append(line)\n",
    "        lang_ger.append(\"German\")"
   ]
  },
  {
   "cell_type": "code",
   "execution_count": 14,
   "metadata": {},
   "outputs": [],
   "source": [
    "data_fre = []\n",
    "lang_fre = []\n",
    "for i,line in fre_df.iterrows():\n",
    "    line = line['French']\n",
    "    if len(line) != 0:\n",
    "        line = line.lower()\n",
    "        line = re.sub(r\"\\d+\",\"\",line)\n",
    "        line = line.translate(translate_table)\n",
    "        data_fre.append(line)\n",
    "        lang_fre.append(\"French\")"
   ]
  },
  {
   "cell_type": "code",
   "execution_count": 15,
   "metadata": {},
   "outputs": [],
   "source": [
    "data_spa = []\n",
    "lang_spa = []\n",
    "for i,line in spa_df.iterrows():\n",
    "    line = line['Spanish']\n",
    "    if len(line) != 0:\n",
    "        line = line.lower()\n",
    "        line = re.sub(r\"\\d+\",\"\",line)\n",
    "        line = line.translate(translate_table)\n",
    "        data_spa.append(line)\n",
    "        lang_spa.append(\"Spanish\")"
   ]
  },
  {
   "cell_type": "code",
   "execution_count": 16,
   "metadata": {},
   "outputs": [
    {
     "data": {
      "text/plain": [
       "<bound method NDFrame.head of                                                     Text Language\n",
       "0      \\t autoplay autoplay copy this code to your we...  English\n",
       "1      \\t gmt  roadmap signed  the head of the un ato...  English\n",
       "2      \\t moments from the iraq war  photos a boy sta...  English\n",
       "3      \\t am from cyberspace to space itself republic...  English\n",
       "4      \\t hours meet the press with  million in obama...  English\n",
       "...                                                  ...      ...\n",
       "39953  \\t la enfermedad de aguirre no afectará a su c...  Spanish\n",
       "39954      \\tpascuas” ha quedado prácticamente en desuso  Spanish\n",
       "39955         \\tpero en el mundo real eso es lo de menos  Spanish\n",
       "39956  \\t el anciano de  años que se encontraba en pa...  Spanish\n",
       "39957  \\tla eclosión de los negocios de la distribuci...  Spanish\n",
       "\n",
       "[39958 rows x 2 columns]>"
      ]
     },
     "execution_count": 16,
     "metadata": {},
     "output_type": "execute_result"
    }
   ],
   "source": [
    "df = pd.DataFrame({\"Text\":data_eng+data_ger+data_fre+data_spa,\"Language\":lang_eng+lang_ger+lang_fre+lang_spa})\n",
    "df.head"
   ]
  },
  {
   "cell_type": "code",
   "execution_count": 24,
   "metadata": {},
   "outputs": [],
   "source": [
    "X, y = df.iloc[:,0],df.iloc[:,1]\n",
    "X_train, X_test, y_train, y_test = train_test_split(X,y,test_size=0.2,random_state=0)"
   ]
  },
  {
   "cell_type": "code",
   "execution_count": 25,
   "metadata": {},
   "outputs": [
    {
     "data": {
      "text/plain": [
       "Pipeline(steps=[('vectorizer',\n",
       "                 TfidfVectorizer(analyzer='char', ngram_range=(1, 3))),\n",
       "                ('clf', LogisticRegression())])"
      ]
     },
     "execution_count": 25,
     "metadata": {},
     "output_type": "execute_result"
    }
   ],
   "source": [
    "# vectorizer and model fitting pipeline\n",
    "vectorizer = feature_extraction.text.TfidfVectorizer(ngram_range=(1,3), analyzer='char')\n",
    "pipe_lr_r13 = pipeline.Pipeline([\n",
    "    ('vectorizer', vectorizer),\n",
    "    ('clf', linear_model.LogisticRegression())\n",
    "])\n",
    "# model fitting\n",
    "pipe_lr_r13.fit(X_train, y_train)"
   ]
  },
  {
   "cell_type": "code",
   "execution_count": 26,
   "metadata": {},
   "outputs": [
    {
     "name": "stdout",
     "output_type": "stream",
     "text": [
      "Accuracy:  99.76226226226225 %\n"
     ]
    }
   ],
   "source": [
    "#model prediction\n",
    "y_predict = pipe_lr_r13.predict(X_test)\n",
    "#model evaluation\n",
    "acc = (metrics.accuracy_score(y_test, y_predict))*100\n",
    "print(\"Accuracy: \",acc,\"%\")\n"
   ]
  },
  {
   "cell_type": "code",
   "execution_count": 39,
   "metadata": {},
   "outputs": [
    {
     "name": "stdout",
     "output_type": "stream",
     "text": [
      "Confusion Matrix: \n",
      " [[2000    0    5    1]\n",
      " [   0 1947    5    1]\n",
      " [   2    1 1994    0]\n",
      " [   1    1    2 2032]]\n"
     ]
    },
    {
     "data": {
      "text/plain": [
       "[Text(0, 0.5, 'English'),\n",
       " Text(0, 1.5, 'German'),\n",
       " Text(0, 2.5, 'French'),\n",
       " Text(0, 3.5, 'Spanish')]"
      ]
     },
     "execution_count": 39,
     "metadata": {},
     "output_type": "execute_result"
    },
    {
     "data": {
      "image/png": "[encoded data removed]",
      "text/plain": [
       "<Figure size 432x288 with 2 Axes>"
      ]
     },
     "metadata": {
      "needs_background": "light"
     },
     "output_type": "display_data"
    }
   ],
   "source": [
    "#confusion matrix\n",
    "matrix = metrics.confusion_matrix(y_test, y_predict)\n",
    "print(\"Confusion Matrix: \\n\", matrix)\n",
    "fig = plt.figure()\n",
    "ax = fig.add_subplot()\n",
    "sns.heatmap(matrix, annot=True, ax = ax)\n",
    "ax.set_xlabel('Predicted labels');ax.set_ylabel('True labels'); \n",
    "ax.set_title('Confusion Matrix'); \n",
    "ax.set_xticklabels(['English', 'German','French','Spanish'])\n",
    "ax.set_yticklabels(['English', 'German','French','Spanish'])"
   ]
  },
  {
   "cell_type": "code",
   "execution_count": 29,
   "metadata": {},
   "outputs": [],
   "source": [
    "#save the model\n",
    "lrFile = open(\"LRModel.pck1\", \"wb\")\n",
    "pickle.dump(pipe_lr_r13, lrFile)\n",
    "lrFile.close()"
   ]
  },
  {
   "cell_type": "code",
   "execution_count": 33,
   "metadata": {},
   "outputs": [],
   "source": []
  },
  {
   "cell_type": "code",
   "execution_count": null,
   "metadata": {},
   "outputs": [],
   "source": []
  }
 ],
 "metadata": {
  "kernelspec": {
   "display_name": "Python 3",
   "language": "python",
   "name": "python3"
  },
  "language_info": {
   "codemirror_mode": {
    "name": "ipython",
    "version": 3
   },
   "file_extension": ".py",
   "mimetype": "text/x-python",
   "name": "python",
   "nbconvert_exporter": "python",
   "pygments_lexer": "ipython3",
   "version": "3.8.5"
  }
 },
 "nbformat": 4,
 "nbformat_minor": 4
}
