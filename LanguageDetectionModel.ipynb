{
 "cells": [
  {
   "cell_type": "code",
   "execution_count": 1,
   "metadata": {},
   "outputs": [],
   "source": [
    "#import liabraries\n",
    "import string\n",
    "import re\n",
    "import codecs\n",
    "import numpy as np\n",
    "import pandas as pd\n",
    "import seaborn as sns\n",
    "import matplotlib.pyplot as plt\n",
    "import pickle\n",
    "from sklearn import feature_extraction\n",
    "from sklearn import linear_model\n",
    "from sklearn import pipeline\n",
    "from sklearn.model_selection import train_test_split\n",
    "from sklearn import metrics"
   ]
  },
  {
   "cell_type": "code",
   "execution_count": 21,
   "metadata": {},
   "outputs": [
    {
     "name": "stderr",
     "output_type": "stream",
     "text": [
      "<ipython-input-21-70216dc1dc7c>:1: ParserWarning: Falling back to the 'python' engine because the 'c' engine does not support regex separators (separators > 1 char and different from '\\s+' are interpreted as regex); you can avoid this warning by specifying engine='python'.\n",
      "  eng_df = pd.read_csv(\"Dataset/eng_news_2015_10K-sentences.txt\",\"utf-8\", header=None, names=[\"English\"])\n",
      "<ipython-input-21-70216dc1dc7c>:2: ParserWarning: Falling back to the 'python' engine because the 'c' engine does not support regex separators (separators > 1 char and different from '\\s+' are interpreted as regex); you can avoid this warning by specifying engine='python'.\n",
      "  ger_df = pd.read_csv(\"Dataset/deu_mixed-typical_2011_10K-sentences.txt\",\"utf-8\", header=None, names=[\"German\"])\n",
      "<ipython-input-21-70216dc1dc7c>:3: ParserWarning: Falling back to the 'python' engine because the 'c' engine does not support regex separators (separators > 1 char and different from '\\s+' are interpreted as regex); you can avoid this warning by specifying engine='python'.\n",
      "  fre_df = pd.read_csv(\"Dataset/fra_mixed_2009_10K-sentences.txt\",\"utf-8\", header=None, names=[\"French\"])\n",
      "<ipython-input-21-70216dc1dc7c>:4: ParserWarning: Falling back to the 'python' engine because the 'c' engine does not support regex separators (separators > 1 char and different from '\\s+' are interpreted as regex); you can avoid this warning by specifying engine='python'.\n",
      "  spa_df = pd.read_csv(\"Dataset/spa_news_2011_10K-sentences.txt\",\"utf-8\", header=None, names=[\"Spanish\"])\n"
     ]
    }
   ],
   "source": [
    "eng_df = pd.read_csv(\"Dataset/eng_news_2015_10K-sentences.txt\",\"utf-8\", header=None, names=[\"English\"])\n",
    "ger_df = pd.read_csv(\"Dataset/deu_mixed-typical_2011_10K-sentences.txt\",\"utf-8\", header=None, names=[\"German\"])\n",
    "fre_df = pd.read_csv(\"Dataset/fra_mixed_2009_10K-sentences.txt\",\"utf-8\", header=None, names=[\"French\"])\n",
    "spa_df = pd.read_csv(\"Dataset/spa_news_2011_10K-sentences.txt\",\"utf-8\", header=None, names=[\"Spanish\"])"
   ]
  },
  {
   "cell_type": "code",
   "execution_count": 3,
   "metadata": {},
   "outputs": [
    {
     "name": "stdout",
     "output_type": "stream",
     "text": [
      "! \" # $ % & ' ( ) * + , - . / : ; < = > ? @ [ \\ ] ^ _ ` { | } ~ "
     ]
    }
   ],
   "source": [
    "#get punctuation\n",
    "for char in string.punctuation:\n",
    "    print(char, end=' ')\n",
    "translate_table = dict((ord(char), None) for char in string.punctuation)"
   ]
  },
  {
   "cell_type": "code",
   "execution_count": 4,
   "metadata": {},
   "outputs": [],
   "source": [
    "data_eng = []\n",
    "lang_eng = []\n",
    "for i,line in eng_df.iterrows():\n",
    "    line = line['English']\n",
    "    if len(line) != 0:\n",
    "        line = line.lower()\n",
    "        line = re.sub(r\"\\d+\",\"\",line)\n",
    "        line = line.translate(translate_table)\n",
    "        data_eng.append(line)\n",
    "        lang_eng.append(\"English\")"
   ]
  },
  {
   "cell_type": "code",
   "execution_count": 5,
   "metadata": {},
   "outputs": [],
   "source": [
    "data_ger = []\n",
    "lang_ger = []\n",
    "for i,line in ger_df.iterrows():\n",
    "    line = line['German']\n",
    "    if len(line) != 0:\n",
    "        line = line.lower()\n",
    "        line = re.sub(r\"\\d+\",\"\",line)\n",
    "        line = line.translate(translate_table)\n",
    "        data_ger.append(line)\n",
    "        lang_ger.append(\"German\")"
   ]
  },
  {
   "cell_type": "code",
   "execution_count": 6,
   "metadata": {},
   "outputs": [],
   "source": [
    "data_fre = []\n",
    "lang_fre = []\n",
    "for i,line in fre_df.iterrows():\n",
    "    line = line['French']\n",
    "    if len(line) != 0:\n",
    "        line = line.lower()\n",
    "        line = re.sub(r\"\\d+\",\"\",line)\n",
    "        line = line.translate(translate_table)\n",
    "        data_fre.append(line)\n",
    "        lang_fre.append(\"French\")"
   ]
  },
  {
   "cell_type": "code",
   "execution_count": 7,
   "metadata": {},
   "outputs": [],
   "source": [
    "data_spa = []\n",
    "lang_spa = []\n",
    "for i,line in spa_df.iterrows():\n",
    "    line = line['Spanish']\n",
    "    if len(line) != 0:\n",
    "        line = line.lower()\n",
    "        line = re.sub(r\"\\d+\",\"\",line)\n",
    "        line = line.translate(translate_table)\n",
    "        data_spa.append(line)\n",
    "        lang_spa.append(\"Spanish\")"
   ]
  },
  {
   "cell_type": "code",
   "execution_count": 23,
   "metadata": {},
   "outputs": [
    {
     "data": {
      "text/plain": [
       "(39958, 2)"
      ]
     },
     "execution_count": 23,
     "metadata": {},
     "output_type": "execute_result"
    }
   ],
   "source": [
    "df = pd.DataFrame({\"Text\":data_eng+data_ger+data_fre+data_spa,\"Language\":lang_eng+lang_ger+lang_fre+lang_spa})\n",
    "df.shape"
   ]
  },
  {
   "cell_type": "code",
   "execution_count": 24,
   "metadata": {},
   "outputs": [],
   "source": [
    "X, y = df.iloc[:,0],df.iloc[:,1]\n",
    "X_train, X_test, y_train, y_test = train_test_split(X,y,test_size=0.2,random_state=0)"
   ]
  },
  {
   "cell_type": "code",
   "execution_count": 25,
   "metadata": {},
   "outputs": [
    {
     "data": {
      "text/plain": [
       "Pipeline(steps=[('vectorizer',\n",
       "                 TfidfVectorizer(analyzer='char', ngram_range=(1, 3))),\n",
       "                ('clf', LogisticRegression())])"
      ]
     },
     "execution_count": 25,
     "metadata": {},
     "output_type": "execute_result"
    }
   ],
   "source": [
    "# vectorizer and model fitting pipeline\n",
    "vectorizer = feature_extraction.text.TfidfVectorizer(ngram_range=(1,3), analyzer='char')\n",
    "pipe_lr_r13 = pipeline.Pipeline([\n",
    "    ('vectorizer', vectorizer),\n",
    "    ('clf', linear_model.LogisticRegression())\n",
    "])\n",
    "# model fitting\n",
    "pipe_lr_r13.fit(X_train, y_train)"
   ]
  },
  {
   "cell_type": "code",
   "execution_count": 26,
   "metadata": {},
   "outputs": [
    {
     "name": "stdout",
     "output_type": "stream",
     "text": [
      "Accuracy:  99.76226226226225 %\n"
     ]
    }
   ],
   "source": [
    "#model prediction\n",
    "y_predict = pipe_lr_r13.predict(X_test)\n",
    "#model evaluation\n",
    "acc = (metrics.accuracy_score(y_test, y_predict))*100\n",
    "print(\"Accuracy: \",acc,\"%\")\n"
   ]
  },
  {
   "cell_type": "code",
   "execution_count": 27,
   "metadata": {},
   "outputs": [
    {
     "name": "stdout",
     "output_type": "stream",
     "text": [
      "Confusion Matrix: \n",
      " [[2000    0    5    1]\n",
      " [   0 1947    5    1]\n",
      " [   2    1 1994    0]\n",
      " [   1    1    2 2032]]\n"
     ]
    }
   ],
   "source": [
    "matrix = metrics.confusion_matrix(y_test, y_predict)\n",
    "print(\"Confusion Matrix: \\n\", matrix)\n"
   ]
  },
  {
   "cell_type": "code",
   "execution_count": 28,
   "metadata": {},
   "outputs": [],
   "source": [
    "#save the model\n",
    "lrFile = open(\"LRModel.pck1\", \"wb\")\n",
    "pickle.dump(pipe_lr_r13, lrFile)\n",
    "lrFile.close()"
   ]
  }
 ],
 "metadata": {
  "kernelspec": {
   "display_name": "Python 3",
   "language": "python",
   "name": "python3"
  },
  "language_info": {
   "codemirror_mode": {
    "name": "ipython",
    "version": 3
   },
   "file_extension": ".py",
   "mimetype": "text/x-python",
   "name": "python",
   "nbconvert_exporter": "python",
   "pygments_lexer": "ipython3",
   "version": "3.8.5"
  }
 },
 "nbformat": 4,
 "nbformat_minor": 4
}
